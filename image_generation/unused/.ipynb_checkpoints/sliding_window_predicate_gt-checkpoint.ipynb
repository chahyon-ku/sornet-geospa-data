{
 "cells": [
  {
   "cell_type": "code",
   "execution_count": 11,
   "metadata": {},
   "outputs": [
    {
     "name": "stdout",
     "output_type": "stream",
     "text": [
      "(351, 351)\n",
      "(315, 315)\n"
     ]
    },
    {
     "data": {
      "image/png": "[encoded data removed]",
      "text/plain": [
       "<Figure size 432x288 with 1 Axes>"
      ]
     },
     "metadata": {
      "needs_background": "light"
     },
     "output_type": "display_data"
    },
    {
     "data": {
      "image/png": "[encoded data removed]",
      "text/plain": [
       "<Figure size 432x288 with 1 Axes>"
      ]
     },
     "metadata": {
      "needs_background": "light"
     },
     "output_type": "display_data"
    }
   ],
   "source": [
    "# load and show an image with Pillow\n",
    "from PIL import Image\n",
    "from matplotlib import image\n",
    "from matplotlib import pyplot\n",
    "import matplotlib.patches as mpatches\n",
    "from numpy import asarray\n",
    "import numpy\n",
    "import cv2 as cv\n",
    "import math\n",
    "from scipy import signal\n",
    "\n",
    "# Open the image form working directory\n",
    "parent_image = Image.open('../top_view_images/cube_container_01_large.png')\n",
    "child_image = Image.open('../top_view_images/cube_01_large.png')\n",
    "\n",
    "# summarize some details about the shapes\n",
    "print(parent_image.size)\n",
    "print(child_image.size)\n",
    "\n",
    "# show the parent image\n",
    "pyplot.imshow(parent_image)\n",
    "pyplot.show()\n",
    "\n",
    "# show the child image\n",
    "pyplot.imshow(child_image)\n",
    "pyplot.show()"
   ]
  },
  {
   "cell_type": "code",
   "execution_count": 12,
   "metadata": {
    "pycharm": {
     "name": "#%%\n"
    }
   },
   "outputs": [
    {
     "name": "stdout",
     "output_type": "stream",
     "text": [
      "(351, 351, 3)\n",
      "[  0 120 255]\n",
      "Object is container\n",
      "(315, 315, 3)\n",
      "[255]\n",
      "Object is not a container\n"
     ]
    },
    {
     "data": {
      "text/plain": [
       "False"
      ]
     },
     "execution_count": 12,
     "metadata": {},
     "output_type": "execute_result"
    }
   ],
   "source": [
    "# Is parent container ?\n",
    "def is_container(object_image):\n",
    "    object_np = asarray(object_image)\n",
    "    print(object_np.shape)\n",
    "\n",
    "    object_np = numpy.where(object_np < 100, 0, object_np)\n",
    "    object_np = numpy.where((object_np >= 100) & (object_np < 230), 120, object_np)\n",
    "    object_np = numpy.where(object_np >= 230, 255, object_np)\n",
    "\n",
    "    u_values = numpy.unique(object_np[:, :, 1])\n",
    "    print(u_values)\n",
    "    if 120 in u_values:\n",
    "        print(\"Object is container\")\n",
    "        return True\n",
    "    else:\n",
    "        print(\"Object is not a container\")\n",
    "        return False\n",
    "is_container(parent_image)\n",
    "is_container(child_image)\n"
   ]
  },
  {
   "cell_type": "code",
   "execution_count": 13,
   "metadata": {
    "pycharm": {
     "name": "#%%\n"
    }
   },
   "outputs": [],
   "source": [
    "def image2nptemplate(object_image, parent):\n",
    "    object_np = asarray(object_image)\n",
    "    print(object_np.shape)\n",
    "    \n",
    "    if parent:\n",
    "        object_np = numpy.where(object_np < 100, 0, object_np)\n",
    "        object_np = numpy.where((object_np >= 100) & (object_np < 230), 120, object_np)\n",
    "        object_np = numpy.where(object_np >= 230, 255, object_np)\n",
    "    else:\n",
    "        object_np = numpy.where(object_np <= 250, 0, object_np)\n",
    "        object_np = numpy.where(object_np > 250, 255, object_np)\n",
    "\n",
    "    u_values = numpy.unique(object_np)\n",
    "    print(u_values)\n",
    "    if 120 in u_values:\n",
    "        print(\"Object is container\")\n",
    "        object_np = numpy.where(object_np == 120, 1, 0)\n",
    "        return object_np\n",
    "    else:\n",
    "        print(\"Object is not a container\")\n",
    "        object_np = numpy.where(object_np == 255, 1, 0)\n",
    "        return object_np"
   ]
  },
  {
   "cell_type": "code",
   "execution_count": 14,
   "metadata": {
    "pycharm": {
     "name": "#%%\n"
    }
   },
   "outputs": [],
   "source": [
    "def rotate_image(mat, angle):\n",
    "    \"\"\"\n",
    "    Rotates an image (angle in degrees) and expands image to avoid cropping\n",
    "    \"\"\"\n",
    "\n",
    "    height, width = mat.shape[:2] # image shape has 3 dimensions\n",
    "    image_center = (width/2, height/2) # getRotationMatrix2D needs coordinates in reverse order (width, height) compared to shape\n",
    "\n",
    "    rotation_mat = cv.getRotationMatrix2D(image_center, angle, 1.)\n",
    "\n",
    "    # rotation calculates the cos and sin, taking absolutes of those.\n",
    "    abs_cos = abs(rotation_mat[0,0])\n",
    "    abs_sin = abs(rotation_mat[0,1])\n",
    "\n",
    "    # find the new width and height bounds\n",
    "    bound_w = int(height * abs_sin + width * abs_cos)\n",
    "    bound_h = int(height * abs_cos + width * abs_sin)\n",
    "\n",
    "    # subtract old image center (bringing image back to origo) and adding the new image center coordinates\n",
    "    rotation_mat[0, 2] += bound_w/2 - image_center[0]\n",
    "    rotation_mat[1, 2] += bound_h/2 - image_center[1]\n",
    "\n",
    "    # rotate image with the new bounds and translated rotation matrix\n",
    "    rotated_mat = cv.warpAffine(mat, rotation_mat, (bound_w, bound_h))\n",
    "    return rotated_mat\n",
    "\n",
    "\n",
    "\n"
   ]
  },
  {
   "cell_type": "code",
   "execution_count": 15,
   "metadata": {
    "pycharm": {
     "name": "#%%\n"
    }
   },
   "outputs": [],
   "source": [
    "def create_parent_image(ori_parent_img, obj_in_img, dx, dy, theta, scale=117.2):\n",
    "    # ori_parent_img: original top view from the template\n",
    "    # obj_in_img: the object to be placed into the parent to create the image\n",
    "    # dx: in 3D\n",
    "    # dy: in 3D\n",
    "    # theta: in 3D\n",
    "    # scale: 3Dtopixel scale default 1.8m = 211 pixels -> 1m = 211/1.8 or 117.2\n",
    "    ori_parent_img_clone = ori_parent_img.copy()\n",
    "    obj_in_img_clone = obj_in_img.copy()\n",
    "    di = - dx * scale\n",
    "    dj = - dy * scale\n",
    "\n",
    "\n",
    "    # Rotate obj_in_img to theta\n",
    "    rot_obj_in_img_clone = rotate_image(obj_in_img_clone, theta)\n",
    "    pyplot.imshow(obj_in_img_clone)\n",
    "    pyplot.show()\n",
    "    pyplot.imshow(rot_obj_in_img_clone)\n",
    "    pyplot.show()\n",
    "\n",
    "    # Overlay on top of the ori_parent_img_clone and move it to di and dj\n",
    "    (row_p, col_p, d_p) = ori_parent_img_clone.shape\n",
    "    (row_c, col_c, d_p) = rot_obj_in_img_clone.shape\n",
    "    pix_i_left_top = int(col_p*0.5 - col_c*0.5 + di)\n",
    "    pix_j_left_top = int(row_p*0.5 - row_c*0.5 + dj)\n",
    "\n",
    "    print(col_p, row_p)\n",
    "    print(col_c, row_c)\n",
    "    print(pix_i_left_top, pix_j_left_top)\n",
    "    for c in range(col_c):\n",
    "        for r in range(row_c):\n",
    "            k = rot_obj_in_img_clone[r, c]\n",
    "            if k[0] > 0:\n",
    "                ori_parent_img_clone[pix_j_left_top+r, pix_i_left_top+c] = k\n",
    "\n",
    "    pyplot.imshow(ori_parent_img_clone)\n",
    "    pyplot.show()\n",
    "    cv.imwrite('../sample_overlayed_parent.png', ori_parent_img_clone)\n",
    "    return ori_parent_img_clone"
   ]
  },
  {
   "cell_type": "code",
   "execution_count": 16,
   "metadata": {},
   "outputs": [],
   "source": [
    "def preprocess_image_sizes(parent_im, child_im):\n",
    "    #Find the diagonal pixels of the child_im\n",
    "    (rows, cols, d) = child_im.shape\n",
    "    diag_pixels = int(math.sqrt(rows ** 2 + cols ** 2))\n",
    "    print(rows, cols)\n",
    "    print(diag_pixels)\n",
    "\n",
    "    (rows_p, cols_p, d_p) = parent_im.shape\n",
    "    print(rows_p, cols_p)\n",
    "\n",
    "    #Add pixels as buffer\n",
    "    diag_pixels = diag_pixels + max(rows, cols) + 50\n",
    "\n",
    "    if (diag_pixels > rows_p) or (diag_pixels > cols_p):\n",
    "        #Create a blank image\n",
    "        super_parent = numpy.zeros((diag_pixels, diag_pixels, d), numpy.uint8)\n",
    "        (rows_sp, cols_sp, d_sp) = super_parent.shape\n",
    "\n",
    "        #Add the parent to the center\n",
    "        r_start = int(rows_sp * 0.5 - rows_p * 0.5)\n",
    "        c_start = int(cols_sp * 0.5 - cols_p * 0.5)\n",
    "        for r in range(rows_p):\n",
    "            for c in range(cols_p):\n",
    "                super_parent[c_start + c, r_start + r] = parent_im[c, r]\n",
    "\n",
    "        pyplot.imshow(parent_im)\n",
    "        pyplot.show()\n",
    "        pyplot.imshow(super_parent)\n",
    "        pyplot.show()\n",
    "\n",
    "        return super_parent\n",
    "    else:\n",
    "        return parent_im"
   ]
  },
  {
   "cell_type": "code",
   "execution_count": 17,
   "metadata": {
    "pycharm": {
     "name": "#%%\n"
    },
    "scrolled": false
   },
   "outputs": [
    {
     "name": "stdout",
     "output_type": "stream",
     "text": [
      "315 315\n",
      "445\n",
      "525 351\n"
     ]
    },
    {
     "ename": "IndexError",
     "evalue": "index 351 is out of bounds for axis 1 with size 351",
     "output_type": "error",
     "traceback": [
      "\u001b[0;31m---------------------------------------------------------------------------\u001b[0m",
      "\u001b[0;31mIndexError\u001b[0m                                Traceback (most recent call last)",
      "\u001b[0;32m/tmp/ipykernel_23092/4287121358.py\u001b[0m in \u001b[0;36m<module>\u001b[0;34m\u001b[0m\n\u001b[1;32m      1\u001b[0m \u001b[0mparent_image\u001b[0m \u001b[0;34m=\u001b[0m \u001b[0mcv\u001b[0m\u001b[0;34m.\u001b[0m\u001b[0mimread\u001b[0m\u001b[0;34m(\u001b[0m\u001b[0;34m'../top_view_images/long_cylinder_01_large.png'\u001b[0m\u001b[0;34m)\u001b[0m\u001b[0;34m\u001b[0m\u001b[0;34m\u001b[0m\u001b[0m\n\u001b[1;32m      2\u001b[0m \u001b[0mchild_image\u001b[0m \u001b[0;34m=\u001b[0m \u001b[0mcv\u001b[0m\u001b[0;34m.\u001b[0m\u001b[0mimread\u001b[0m\u001b[0;34m(\u001b[0m\u001b[0;34m'../top_view_images/cube_01_large.png'\u001b[0m\u001b[0;34m)\u001b[0m\u001b[0;34m\u001b[0m\u001b[0;34m\u001b[0m\u001b[0m\n\u001b[0;32m----> 3\u001b[0;31m \u001b[0mparent_image\u001b[0m \u001b[0;34m=\u001b[0m \u001b[0mpreprocess_image_sizes\u001b[0m\u001b[0;34m(\u001b[0m\u001b[0mparent_image\u001b[0m\u001b[0;34m,\u001b[0m \u001b[0mchild_image\u001b[0m\u001b[0;34m)\u001b[0m\u001b[0;34m\u001b[0m\u001b[0;34m\u001b[0m\u001b[0m\n\u001b[0m\u001b[1;32m      4\u001b[0m \u001b[0mcreate_parent_image\u001b[0m\u001b[0;34m(\u001b[0m\u001b[0mparent_image\u001b[0m\u001b[0;34m,\u001b[0m \u001b[0mchild_image\u001b[0m\u001b[0;34m,\u001b[0m \u001b[0;34m-\u001b[0m\u001b[0;36m0.66\u001b[0m\u001b[0;34m,\u001b[0m \u001b[0;34m-\u001b[0m\u001b[0;36m0.104\u001b[0m\u001b[0;34m,\u001b[0m \u001b[0;36m116.8\u001b[0m\u001b[0;34m)\u001b[0m\u001b[0;34m\u001b[0m\u001b[0;34m\u001b[0m\u001b[0m\n",
      "\u001b[0;32m/tmp/ipykernel_23092/3121707641.py\u001b[0m in \u001b[0;36mpreprocess_image_sizes\u001b[0;34m(parent_im, child_im)\u001b[0m\n\u001b[1;32m     22\u001b[0m         \u001b[0;32mfor\u001b[0m \u001b[0mr\u001b[0m \u001b[0;32min\u001b[0m \u001b[0mrange\u001b[0m\u001b[0;34m(\u001b[0m\u001b[0mrows_p\u001b[0m\u001b[0;34m)\u001b[0m\u001b[0;34m:\u001b[0m\u001b[0;34m\u001b[0m\u001b[0;34m\u001b[0m\u001b[0m\n\u001b[1;32m     23\u001b[0m             \u001b[0;32mfor\u001b[0m \u001b[0mc\u001b[0m \u001b[0;32min\u001b[0m \u001b[0mrange\u001b[0m\u001b[0;34m(\u001b[0m\u001b[0mcols_p\u001b[0m\u001b[0;34m)\u001b[0m\u001b[0;34m:\u001b[0m\u001b[0;34m\u001b[0m\u001b[0;34m\u001b[0m\u001b[0m\n\u001b[0;32m---> 24\u001b[0;31m                 \u001b[0msuper_parent\u001b[0m\u001b[0;34m[\u001b[0m\u001b[0mc_start\u001b[0m \u001b[0;34m+\u001b[0m \u001b[0mc\u001b[0m\u001b[0;34m,\u001b[0m \u001b[0mr_start\u001b[0m \u001b[0;34m+\u001b[0m \u001b[0mr\u001b[0m\u001b[0;34m]\u001b[0m \u001b[0;34m=\u001b[0m \u001b[0mparent_im\u001b[0m\u001b[0;34m[\u001b[0m\u001b[0mc\u001b[0m\u001b[0;34m,\u001b[0m \u001b[0mr\u001b[0m\u001b[0;34m]\u001b[0m\u001b[0;34m\u001b[0m\u001b[0;34m\u001b[0m\u001b[0m\n\u001b[0m\u001b[1;32m     25\u001b[0m \u001b[0;34m\u001b[0m\u001b[0m\n\u001b[1;32m     26\u001b[0m         \u001b[0mpyplot\u001b[0m\u001b[0;34m.\u001b[0m\u001b[0mimshow\u001b[0m\u001b[0;34m(\u001b[0m\u001b[0mparent_im\u001b[0m\u001b[0;34m)\u001b[0m\u001b[0;34m\u001b[0m\u001b[0;34m\u001b[0m\u001b[0m\n",
      "\u001b[0;31mIndexError\u001b[0m: index 351 is out of bounds for axis 1 with size 351"
     ]
    }
   ],
   "source": [
    "parent_image = cv.imread('../top_view_images/long_cylinder_01_large.png')\n",
    "child_image = cv.imread('../top_view_images/cube_01_large.png')\n",
    "parent_image = preprocess_image_sizes(parent_image, child_image)\n",
    "create_parent_image(parent_image, child_image, -0.66, -0.104, 116.8)"
   ]
  },
  {
   "cell_type": "code",
   "execution_count": 28,
   "metadata": {},
   "outputs": [],
   "source": [
    "def can_contain(parent_np, child_np, parent_image, child_image):\n",
    "    parent_np = image2nptemplate(parent_image, True)\n",
    "    child_np = image2nptemplate(child_image, False)\n",
    "\n",
    "\n",
    "    parent_np = parent_np[:, :, 0]\n",
    "    child_np = child_np[:, :, 0]\n",
    "    print(\"Unique parent_np:\", numpy.unique(parent_np))\n",
    "    print(\"Unique child_np:\",numpy.unique(child_np))\n",
    "\n",
    "\n",
    "    match = numpy.sum(child_np)\n",
    "    conv = signal.convolve2d(parent_np, 2*child_np[::-1, ::-1]-1, mode='valid')\n",
    "    print(conv.shape)\n",
    "    print(parent_np.shape)\n",
    "    tst = abs(conv - match) < 1000\n",
    "    # print(tst)\n",
    "    candidates = numpy.argwhere(tst)\n",
    "    print(\"Unique candidates:\", candidates)\n",
    "    if candidates.size >1:\n",
    "        print(\"Can contain\")\n",
    "        pyplot.imshow(parent_image)\n",
    "        rect=mpatches.Rectangle((candidates[0, 0],candidates[0, 1]),child_np.shape[1],child_np.shape[0],\n",
    "                            #fill=False,\n",
    "                            alpha=0.1,\n",
    "                           facecolor=\"red\")\n",
    "        pyplot.gca().add_patch(rect)\n",
    "        pyplot.show()\n",
    "    else:\n",
    "        print(\"Cannot contain\")"
   ]
  },
  {
   "cell_type": "code",
   "execution_count": 29,
   "metadata": {},
   "outputs": [
    {
     "name": "stdout",
     "output_type": "stream",
     "text": [
      "[  0 120 255]\n",
      "(449, 449, 3)\n",
      "[  0   8  16  24  32  40  48  56  64  72  80  88  95  96 104 112 120 124\n",
      " 128 133 135 137 141 143 145 150 151 154 158 159 162 166 167 169 171 175\n",
      " 179 183 188 191 192 196 199 200 204 207 209 213 215 217 221 223 225 230\n",
      " 231 234 238 239 242 243 247 251 255]\n",
      "(385, 561, 3)\n",
      "[  0 120 255]\n",
      "Object is container\n",
      "(449, 449, 3)\n",
      "[  0 255]\n",
      "Object is not a container\n"
     ]
    },
    {
     "data": {
      "image/png": "[encoded data removed]",
      "text/plain": [
       "<Figure size 432x288 with 1 Axes>"
      ]
     },
     "metadata": {
      "needs_background": "light"
     },
     "output_type": "display_data"
    }
   ],
   "source": [
    "parent_image = cv.imread('../top_view_images/ellipse_container_01_large.png')\n",
    "child_image = cv.imread('../top_view_images/cube_container_01_large.png')\n",
    "print(numpy.unique(asarray(parent_image)))\n",
    "\n",
    "# rotated_parent = rotate_image(parent_image, -60)\n",
    "# print(rotated_parent.shape)\n",
    "# print(numpy.unique(asarray(rotated_parent)))\n",
    "# pyplot.imshow(rotated_parent)\n",
    "\n",
    "rotated_child = rotate_image(child_image, -20)\n",
    "print(rotated_child.shape)\n",
    "print(numpy.unique(asarray(rotated_child)))\n",
    "pyplot.imshow(rotated_child)\n",
    "parent_np = image2nptemplate(parent_image, True)\n",
    "child_np = image2nptemplate(rotated_child, False)"
   ]
  },
  {
   "cell_type": "code",
   "execution_count": 30,
   "metadata": {},
   "outputs": [
    {
     "name": "stdout",
     "output_type": "stream",
     "text": [
      "(385, 561, 3)\n",
      "[  0 120 255]\n",
      "Object is container\n",
      "(351, 351, 3)\n",
      "[  0 255]\n",
      "Object is not a container\n",
      "Unique parent_np: [0 1]\n",
      "Unique child_np: [0 1]\n",
      "(35, 211)\n",
      "(385, 561)\n",
      "Unique candidates: []\n",
      "Cannot contain\n"
     ]
    }
   ],
   "source": [
    "can_contain(parent_np, child_np, parent_image, child_image)"
   ]
  },
  {
   "cell_type": "code",
   "execution_count": null,
   "metadata": {},
   "outputs": [],
   "source": []
  },
  {
   "cell_type": "code",
   "execution_count": null,
   "metadata": {},
   "outputs": [],
   "source": []
  },
  {
   "cell_type": "code",
   "execution_count": null,
   "metadata": {},
   "outputs": [],
   "source": []
  },
  {
   "cell_type": "code",
   "execution_count": null,
   "metadata": {},
   "outputs": [],
   "source": []
  }
 ],
 "metadata": {
  "kernelspec": {
   "display_name": "Python 3",
   "language": "python",
   "name": "python3"
  },
  "language_info": {
   "codemirror_mode": {
    "name": "ipython",
    "version": 3
   },
   "file_extension": ".py",
   "mimetype": "text/x-python",
   "name": "python",
   "nbconvert_exporter": "python",
   "pygments_lexer": "ipython3",
   "version": "3.8.8"
  }
 },
 "nbformat": 4,
 "nbformat_minor": 1
}
