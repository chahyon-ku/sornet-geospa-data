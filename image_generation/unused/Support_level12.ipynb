{
 "cells": [
  {
   "cell_type": "code",
   "execution_count": 1,
   "id": "interim-thanks",
   "metadata": {},
   "outputs": [],
   "source": [
    "# load and show an image with Pillow\n",
    "from PIL import Image\n",
    "from matplotlib import image\n",
    "from matplotlib import pyplot\n",
    "import matplotlib.patches as mpatches\n",
    "from numpy import asarray\n",
    "import numpy\n",
    "import cv2 as cv\n",
    "from numpy.lib.stride_tricks import sliding_window_view\n",
    "import math\n",
    "from scipy import signal\n",
    "# from einops import repeat, rearrange, reduce"
   ]
  },
  {
   "cell_type": "code",
   "execution_count": 2,
   "id": "incomplete-haiti",
   "metadata": {},
   "outputs": [
    {
     "data": {
      "text/plain": [
       "'1.20.3'"
      ]
     },
     "execution_count": 2,
     "metadata": {},
     "output_type": "execute_result"
    }
   ],
   "source": [
    "numpy.__version__"
   ]
  },
  {
   "cell_type": "code",
   "execution_count": 3,
   "id": "primary-elements",
   "metadata": {},
   "outputs": [],
   "source": [
    "info = {\n",
    "      \"rotation\": 245.87732027142948,\n",
    "      \"size\": \"one-size\",\n",
    "      \"color\": \"yellow\",\n",
    "      \"3d_coords\": [\n",
    "        -2.104611396789551,\n",
    "        -0.7942865490913391,\n",
    "        0.5\n",
    "      ],\n",
    "      \"material\": \"rubber\",\n",
    "      \"child\": {\n",
    "        \"rotation\": 25.89978442503845,\n",
    "        \"size\": \"one-size\",\n",
    "        \"color\": \"gray\",\n",
    "        \"3d_coords\": [\n",
    "          -1.6461938619613647,\n",
    "          -0.8790992498397827,\n",
    "          1.5099999904632568\n",
    "        ],\n",
    "        \"material\": \"rubber\",\n",
    "        \"child\": None,\n",
    "        \"shape\": \"thin_rectangle_01\",\n",
    "        \"used\": True,\n",
    "        \"obj_name_out\": \"thin_rectangle_01_0\",\n",
    "        \"pixel_coords\": [\n",
    "          119,\n",
    "          84,\n",
    "          15.356139183044434\n",
    "        ],\n",
    "        \"shape_num\": 40\n",
    "      },\n",
    "      \"shape\": \"cube_container_01\",\n",
    "      \"used\": True,\n",
    "      \"obj_name_out\": \"cube_container_01_0\",\n",
    "      \"pixel_coords\": [\n",
    "        115,\n",
    "        102,\n",
    "        16.124099731445312\n",
    "      ],\n",
    "      \"shape_num\": 7\n",
    "    }"
   ]
  },
  {
   "cell_type": "code",
   "execution_count": 4,
   "id": "looking-captain",
   "metadata": {},
   "outputs": [],
   "source": [
    "def image2nptemplate(object_image, parent):\n",
    "    object_np = asarray(object_image)\n",
    "    print(object_np.shape)\n",
    "    \n",
    "    if parent:\n",
    "        object_np = numpy.where(object_np < 100, 0, object_np)\n",
    "        object_np = numpy.where((object_np >= 100) & (object_np < 230), 120, object_np)\n",
    "        object_np = numpy.where(object_np >= 230, 255, object_np)\n",
    "    else:\n",
    "        object_np = numpy.where(object_np <= 250, 0, object_np)\n",
    "        object_np = numpy.where(object_np > 250, 255, object_np)\n",
    "\n",
    "    u_values = numpy.unique(object_np)\n",
    "    print(u_values)\n",
    "    if 120 in u_values:\n",
    "        print(\"Object is container\")\n",
    "        object_np = numpy.where(object_np == 120, 1, 0)\n",
    "        return object_np\n",
    "    else:\n",
    "        print(\"Object is not a container\")\n",
    "        object_np = numpy.where(object_np == 255, 1, 0)\n",
    "        return object_np"
   ]
  },
  {
   "cell_type": "code",
   "execution_count": 174,
   "id": "front-blind",
   "metadata": {},
   "outputs": [],
   "source": [
    "def create_parent_image_sup(ori_parent_img, obj_in_img, dx, dy, theta, scale=234.4):\n",
    "    # ori_parent_img: original top view from the template\n",
    "    # obj_in_img: the object to be placed into the parent to create the image\n",
    "    # dx: in 3D\n",
    "    # dy: in 3D\n",
    "    # theta: in 3D\n",
    "    # scale: 3Dtopixel scale default 1.8m = 211 pixels -> 1m = 211/1.8 or 117.2\n",
    "    ori_parent_img_clone = ori_parent_img.copy()\n",
    "    obj_in_img_clone = obj_in_img.copy()\n",
    "    di = - dx * scale\n",
    "    dj = - dy * scale\n",
    "\n",
    "\n",
    "    # Rotate obj_in_img to theta\n",
    "    rot_obj_in_img_clone = rotate_image(obj_in_img_clone, theta)\n",
    "    pyplot.imshow(obj_in_img_clone)\n",
    "    pyplot.show()\n",
    "    pyplot.imshow(rot_obj_in_img_clone)\n",
    "    pyplot.show()\n",
    "\n",
    "    # Overlay on top of the ori_parent_img_clone and move it to di and dj\n",
    "    (row_p, col_p, d_p) = ori_parent_img_clone.shape\n",
    "    (row_c, col_c, d_p) = rot_obj_in_img_clone.shape\n",
    "    pix_i_left_top = int(col_p*0.5 - col_c*0.5 + di)\n",
    "    pix_j_left_top = int(row_p*0.5 - row_c*0.5 + dj)\n",
    "\n",
    "    print(col_p, row_p)\n",
    "    print(col_c, row_c)\n",
    "    print(pix_i_left_top, pix_j_left_top)\n",
    "    for c in range(col_c):\n",
    "        for r in range(row_c):\n",
    "            k = rot_obj_in_img_clone[r, c]\n",
    "            if k[0] > 0:\n",
    "                ori_parent_img_clone[pix_j_left_top+r, pix_i_left_top+c] = 99\n",
    "\n",
    "    pyplot.imshow(ori_parent_img_clone)\n",
    "    pyplot.show()\n",
    "    cv.imwrite('../sample_overlayed_parent.png', ori_parent_img_clone)\n",
    "    return ori_parent_img_clone"
   ]
  },
  {
   "cell_type": "code",
   "execution_count": 175,
   "id": "photographic-louis",
   "metadata": {},
   "outputs": [],
   "source": [
    "def rotate_image(mat, angle):\n",
    "    \"\"\"\n",
    "    Rotates an image (angle in degrees) and expands image to avoid cropping\n",
    "    \"\"\"\n",
    "    \n",
    "    height, width = mat.shape[:2] # image shape has 3 dimensions\n",
    "    image_center = (width/2, height/2) # getRotationMatrix2D needs coordinates in reverse order (width, height) compared to shape\n",
    "\n",
    "    rotation_mat = cv.getRotationMatrix2D(image_center, angle, 1.)\n",
    "\n",
    "    # rotation calculates the cos and sin, taking absolutes of those.\n",
    "    abs_cos = abs(rotation_mat[0,0])\n",
    "    abs_sin = abs(rotation_mat[0,1])\n",
    "\n",
    "    # find the new width and height bounds\n",
    "    bound_w = int(height * abs_sin + width * abs_cos)\n",
    "    bound_h = int(height * abs_cos + width * abs_sin)\n",
    "\n",
    "    # subtract old image center (bringing image back to origo) and adding the new image center coordinates\n",
    "    rotation_mat[0, 2] += bound_w/2 - image_center[0]\n",
    "    rotation_mat[1, 2] += bound_h/2 - image_center[1]\n",
    "\n",
    "    # rotate image with the new bounds and translated rotation matrix\n",
    "    rotated_mat = cv.warpAffine(mat, rotation_mat, (bound_w, bound_h))\n",
    "    return rotated_mat\n",
    "\n",
    "\n",
    "\n"
   ]
  },
  {
   "cell_type": "code",
   "execution_count": 176,
   "id": "severe-crossing",
   "metadata": {},
   "outputs": [
    {
     "name": "stdout",
     "output_type": "stream",
     "text": [
      "[120 255]\n",
      "(247, 247, 3)\n",
      "[  0  24  32 110 135 207 215 255]\n"
     ]
    },
    {
     "data": {
      "text/plain": [
       "<matplotlib.image.AxesImage at 0x7f3bbc63a0d0>"
      ]
     },
     "execution_count": 176,
     "metadata": {},
     "output_type": "execute_result"
    },
    {
     "data": {
      "image/png": "[encoded data removed]",
      "text/plain": [
       "<Figure size 432x288 with 1 Axes>"
      ]
     },
     "metadata": {
      "needs_background": "light"
     },
     "output_type": "display_data"
    }
   ],
   "source": [
    "parent_image = cv.imread('../top_view_images/cube_container_01.png')\n",
    "child_image = cv.imread('../top_view_images/thin_rectangle_01_bottom.png')\n",
    "print(numpy.unique(asarray(parent_image)))\n",
    "\n",
    "# rotated_parent = rotate_image(parent_image, -60)\n",
    "# print(rotated_parent.shape)\n",
    "# print(numpy.unique(asarray(rotated_parent)))\n",
    "# pyplot.imshow(rotated_parent)\n",
    "\n",
    "rotated_child = rotate_image(child_image, 135)\n",
    "print(rotated_child.shape)\n",
    "print(numpy.unique(asarray(rotated_child)))\n",
    "pyplot.imshow(rotated_child)"
   ]
  },
  {
   "cell_type": "code",
   "execution_count": 177,
   "id": "growing-today",
   "metadata": {},
   "outputs": [],
   "source": [
    "def image2nptemplate_support(object_image):\n",
    "    object_np = asarray(object_image)\n",
    "    print(object_np.shape)\n",
    "\n",
    "    object_np = numpy.where(object_np < 100, 0, object_np)\n",
    "    object_np = numpy.where((object_np >= 100) & (object_np < 230), 120, object_np)\n",
    "    object_np = numpy.where(object_np >= 230, 255, object_np)\n",
    "\n",
    "    u_values = numpy.unique(object_np[:, :, 1])\n",
    "    print(u_values)\n",
    "    if 120 in u_values:\n",
    "        print(\"Object is container\")\n",
    "        object_np = numpy.where(object_np == 255, 1, 0)\n",
    "        return object_np\n",
    "    else:\n",
    "        print(\"Object is not a container\")\n",
    "        object_np = numpy.where(object_np == 255, 1, 0)\n",
    "        return object_np\n",
    "\n",
    "def check_support(parent_image, child_image):\n",
    "    #Image to np template so that\n",
    "    # Parent's top surface points intersecting\n",
    "    # with child's bottom surface is computed\n",
    "\n",
    "    parent_np = image2nptemplate_support(parent_image)\n",
    "    child_np = image2nptemplate_support(child_image)\n",
    "\n",
    "    mod_parent_image = Image.fromarray((parent_np*255).astype(numpy.uint8))\n",
    "    pyplot.imshow(mod_parent_image)\n",
    "    pyplot.show()\n",
    "    mod_child_image = Image.fromarray((child_np*255).astype(numpy.uint8))\n",
    "    pyplot.imshow(mod_child_image)\n",
    "    pyplot.show()\n",
    "\n",
    "    parent_np = parent_np[:, :, 0]\n",
    "    child_np = child_np[:, :, 0]\n",
    "    print(\"Unique parent_np:\", numpy.unique(parent_np))\n",
    "    print(\"Unique child_np:\",numpy.unique(child_np))\n",
    "\n",
    "    v = sliding_window_view(parent_np, child_np.shape)\n",
    "    print(\"V shape: \", v.shape)\n",
    "    print(\"Parent shape: \", parent_np.shape)\n",
    "    print(\"Child shape: \", child_np.shape)\n",
    "\n",
    "    child_np_tile = numpy.broadcast_to(child_np, (v.shape[0], v.shape[1], child_np.shape[0], child_np.shape[1]))\n",
    "    print(\"child_np_tile shape: \", child_np_tile.shape)\n",
    "\n",
    "    #Reshape\n",
    "    v = numpy.reshape(v, (v.shape[0], v.shape[1], v.shape[2]*v.shape[3]))\n",
    "    child_np_tile = numpy.reshape(child_np_tile, (child_np_tile.shape[0], child_np_tile.shape[1], child_np_tile.shape[2]*child_np_tile.shape[3]))\n",
    "\n",
    "    # Find the intersection at every sliding window\n",
    "    v_out = ((v == 1) and (child_np_tile ==1))\n",
    "\n",
    "    # TODO In each sliding window check to see if the CoM or the center of the template\n",
    "    # is inside a triangle formed by any 3 points from the region of intersection\n",
    "    # Do this sequentially for every sliding window until the answer is true"
   ]
  },
  {
   "cell_type": "code",
   "execution_count": 178,
   "id": "0068fa72",
   "metadata": {},
   "outputs": [],
   "source": [
    "def can_sup(parent, child):\n",
    "    parent_np = asarray(parent)\n",
    "    child_np = asarray(child)\n",
    "#     parent_np = numpy.where(parent_np < 100, 0, parent_np)\n",
    "#     parent_np = numpy.where((parent_np >= 100) & (parent_np < 230), 120, parent_np)\n",
    "#     parent_np = numpy.where(parent_np >= 230, 255, parent_np)\n",
    "    row_c, col_c, _ = child_np.shape\n",
    "#     for i in range(parent_np.shape[0]):\n",
    "#         for j in range(parent_np.shape[1]):\n",
    "#             if parent_np[i][j][0] == 255:\n",
    "                \n",
    "#                 pix_i_left_top = int(i-row_c*0.5)\n",
    "#                 pix_j_left_top = int(j-col_c*0.5)\n",
    "\n",
    "# #                 print(col_c, row_c)\n",
    "# #                 print(pix_i_left_top, pix_j_left_top)\n",
    "                \n",
    "#                 checker = True\n",
    "#                 for c in range(col_c):\n",
    "#                     for r in range(row_c):\n",
    "#                         if pix_i_left_top+r < 0 or pix_j_left_top+c < 0: continue\n",
    "#                         if parent_np[pix_i_left_top+r, pix_j_left_top+c, 0] == 99 and child_np[r, c, 0] != 0:\n",
    "#                             checker = False\n",
    "#                             break\n",
    "#                     if not checker:\n",
    "#                         break\n",
    "                \n",
    "#                 if checker:\n",
    "#                     temp_np = combined.copy()\n",
    "#                     for c in range(col_c):\n",
    "#                         for r in range(row_c):\n",
    "#                             if child_np[r,c,0] != 0 and pix_i_left_top+r >= 0 and pix_j_left_top+c >= 0:\n",
    "#                                 temp_np[pix_i_left_top+r, pix_j_left_top+c, :] = child_np[r, c, 0]\n",
    "                            \n",
    "#                     pyplot.imshow(temp_np)\n",
    "#                     print(str(i) + \", \" + str(j))\n",
    "#                     return True\n",
    "                \n",
    "    parent_np = parent_np[:,:,0]\n",
    "    mod_np = numpy.where(parent_np==99, 1, 0)\n",
    "    child_np = child_np[:,:,0]\n",
    "#     %timeit conv = signal.convolve2d(parent_np, child_np, mode='same')\n",
    "    conv = signal.fftconvolve(mod_np, child_np, mode='same')\n",
    "    # print(parent_np)\n",
    "    # print(child_np)\n",
    "#     print(conv)\n",
    "    print(conv.shape)\n",
    "    candidate = numpy.argwhere(conv==0)\n",
    "    for pos in candidate:\n",
    "        if pos[0] + col_c//2 >= parent_np.shape[0] or pos[1] + row_c//2 >= child_np.shape[1]:\n",
    "            continue\n",
    "        if parent_np[pos[0]+col_c//2, pos[1]+row_c//2] == 255:\n",
    "            print(pos)\n",
    "            print(pos[0]+col_c//2, pos[1]+row_c//2)\n",
    "            print(conv[pos[0], pos[1]])\n",
    "            return pos\n",
    "    # print (numpy.unique(conv))\n",
    "#     tst = abs(conv - match) < 1000\n",
    "#     # print(tst)\n",
    "#     candidates = numpy.argwhere(tst)"
   ]
  },
  {
   "cell_type": "code",
   "execution_count": 179,
   "id": "851dbc0d",
   "metadata": {},
   "outputs": [
    {
     "name": "stdout",
     "output_type": "stream",
     "text": [
      "(233, 233, 3)\n"
     ]
    },
    {
     "data": {
      "image/png": "[encoded data removed]",
      "text/plain": [
       "<Figure size 432x288 with 1 Axes>"
      ]
     },
     "metadata": {
      "needs_background": "light"
     },
     "output_type": "display_data"
    },
    {
     "data": {
      "image/png": "[encoded data removed]",
      "text/plain": [
       "<Figure size 432x288 with 1 Axes>"
      ]
     },
     "metadata": {
      "needs_background": "light"
     },
     "output_type": "display_data"
    },
    {
     "name": "stdout",
     "output_type": "stream",
     "text": [
      "464 464\n",
      "189 221\n",
      "167 236\n"
     ]
    },
    {
     "data": {
      "image/png": "[encoded data removed]",
      "text/plain": [
       "<Figure size 432x288 with 1 Axes>"
      ]
     },
     "metadata": {
      "needs_background": "light"
     },
     "output_type": "display_data"
    },
    {
     "data": {
      "image/png": "[encoded data removed]",
      "text/plain": [
       "<Figure size 432x288 with 1 Axes>"
      ]
     },
     "metadata": {
      "needs_background": "light"
     },
     "output_type": "display_data"
    },
    {
     "name": "stdout",
     "output_type": "stream",
     "text": [
      "0.3004794120788574\n",
      "(464, 464)\n",
      "[202   7]\n",
      "313 118\n",
      "0.0\n",
      "0.025480985641479492\n"
     ]
    },
    {
     "data": {
      "text/plain": [
       "<matplotlib.image.AxesImage at 0x7f3ba869ad00>"
      ]
     },
     "execution_count": 179,
     "metadata": {},
     "output_type": "execute_result"
    },
    {
     "data": {
      "image/png": "[encoded data removed]",
      "text/plain": [
       "<Figure size 432x288 with 1 Axes>"
      ]
     },
     "metadata": {
      "needs_background": "light"
     },
     "output_type": "display_data"
    }
   ],
   "source": [
    "import time\n",
    "parent_image = cv.imread('../top_view_images/cube_container_01.png')\n",
    "print(asarray(parent_image).shape)\n",
    "child_image = cv.imread('../top_view_images/ellipse_rect_cont_01_small_bottom.png')\n",
    "cur_time = time.time()\n",
    "parent_image = preprocess_image_sizes(parent_image, child_image)\n",
    "past_time = time.time() - cur_time\n",
    "cur_time = time.time()\n",
    "combined = create_parent_image(parent_image, child_image, -0.126, -0.49, 112, scale=234.4)\n",
    "past_time = time.time() - cur_time\n",
    "numpy.unique(combined)\n",
    "\n",
    "cur_time = time.time()\n",
    "child_image = cv.imread('../top_view_images/ellipse_container_01_small_bottom.png')\n",
    "child_image_rot = rotate_image(child_image, 45)\n",
    "pyplot.imshow(child_image_rot)\n",
    "pyplot.show()\n",
    "parent_image = preprocess_image_sizes(combined, child_image_rot)\n",
    "past_time = time.time() - cur_time\n",
    "print(past_time)\n",
    "# pyplot.imshow(child_image)\n",
    "# pyplot.show()\n",
    "# pyplot.imshow(combined)\n",
    "cur_time = time.time()\n",
    "result = can_sup(combined, child_image_rot)\n",
    "past_time = time.time() - cur_time\n",
    "print(past_time)\n",
    "if result is None: print(\"not supportable\")\n",
    "combined[result[1]:result[1]+child_image_rot.shape[0], result[0]:result[0]+child_image_rot.shape[1]] = child_image_rot\n",
    "pyplot.imshow(combined)"
   ]
  },
  {
   "cell_type": "code",
   "execution_count": null,
   "id": "e2401314",
   "metadata": {},
   "outputs": [],
   "source": [
    "%timeit for _ in range(1000): True"
   ]
  },
  {
   "cell_type": "code",
   "execution_count": 92,
   "id": "bf1c6d90",
   "metadata": {},
   "outputs": [],
   "source": [
    "def preprocess_image_sizes(parent_im, child_im):\n",
    "    #Find the diagonal pixels of the child_im\n",
    "    (rows, cols, d) = child_im.shape\n",
    "    diag_pixels = int(math.sqrt(rows ** 2 + cols ** 2))\n",
    "#     print(rows, cols)\n",
    "#     print(diag_pixels)\n",
    "\n",
    "    (rows_p, cols_p, d_p) = parent_im.shape\n",
    "#     print(rows_p, cols_p)\n",
    "\n",
    "    #Add pixels as buffer\n",
    "    diag_pixels = diag_pixels + max(rows, cols) + 50\n",
    "\n",
    "    if (diag_pixels > rows_p) or (diag_pixels > cols_p):\n",
    "        #Create a blank image\n",
    "        super_parent = numpy.zeros((diag_pixels, diag_pixels, d), numpy.uint8)\n",
    "        (rows_sp, cols_sp, d_sp) = super_parent.shape\n",
    "\n",
    "        #Add the parent to the center\n",
    "        r_start = int(rows_sp * 0.5 - rows_p * 0.5)\n",
    "        c_start = int(cols_sp * 0.5 - cols_p * 0.5)\n",
    "        \n",
    "        for r in range(rows_p):\n",
    "            for c in range(cols_p):\n",
    "                # Changed from [c, r] to [r, c]\n",
    "                super_parent[c_start + c, r_start + r] = parent_im[r, c]\n",
    "\n",
    "#         pyplot.imshow(parent_im)\n",
    "#         pyplot.show()\n",
    "#         pyplot.imshow(super_parent)\n",
    "#         pyplot.show()\n",
    "\n",
    "        return super_parent\n",
    "    else:\n",
    "        return parent_im"
   ]
  },
  {
   "cell_type": "code",
   "execution_count": 132,
   "id": "8e24e891",
   "metadata": {},
   "outputs": [
    {
     "name": "stdout",
     "output_type": "stream",
     "text": [
      "(233, 233, 3)\n"
     ]
    },
    {
     "data": {
      "image/png": "[encoded data removed]",
      "text/plain": [
       "<Figure size 432x288 with 1 Axes>"
      ]
     },
     "metadata": {
      "needs_background": "light"
     },
     "output_type": "display_data"
    },
    {
     "data": {
      "image/png": "[encoded data removed]",
      "text/plain": [
       "<Figure size 432x288 with 1 Axes>"
      ]
     },
     "metadata": {
      "needs_background": "light"
     },
     "output_type": "display_data"
    },
    {
     "name": "stdout",
     "output_type": "stream",
     "text": [
      "464 464\n",
      "189 221\n",
      "167 236\n"
     ]
    },
    {
     "data": {
      "image/png": "[encoded data removed]",
      "text/plain": [
       "<Figure size 432x288 with 1 Axes>"
      ]
     },
     "metadata": {
      "needs_background": "light"
     },
     "output_type": "display_data"
    },
    {
     "data": {
      "text/plain": [
       "array([  0,  99, 120, 255], dtype=uint8)"
      ]
     },
     "execution_count": 132,
     "metadata": {},
     "output_type": "execute_result"
    },
    {
     "data": {
      "image/png": "[encoded data removed]",
      "text/plain": [
       "<Figure size 432x288 with 1 Axes>"
      ]
     },
     "metadata": {
      "needs_background": "light"
     },
     "output_type": "display_data"
    }
   ],
   "source": [
    "parent_image = cv.imread('../top_view_images/cube_container_01.png')\n",
    "print(asarray(parent_image).shape)\n",
    "child_image = cv.imread('../top_view_images/ellipse_rect_cont_01_small_bottom.png')\n",
    "# rotated_child = rotate_image(child_image, 116.8)\n",
    "# pyplot.imshow(rotated_child)\n",
    "parent_image = preprocess_image_sizes(parent_image, child_image)\n",
    "combined = create_parent_image(parent_image, child_image, -0.126, -0.49, 112, scale=234.4)\n",
    "pyplot.imshow(combined)\n",
    "numpy.unique(combined)"
   ]
  },
  {
   "cell_type": "code",
   "execution_count": null,
   "id": "4dd2edda",
   "metadata": {
    "scrolled": true
   },
   "outputs": [],
   "source": [
    "parent_image = cv.imread('../top_view_images/long_cylinder_01_large.png')\n",
    "child_image = cv.imread('../top_view_images/cube_01_large.png')\n",
    "rotated_child = rotate_image(child_image, 116.8)\n",
    "pyplot.imshow(rotated_child)\n",
    "parent_image = preprocess_image_sizes(parent_image, rotated_child)\n",
    "combined = create_parent_image(parent_image, rotated_child, -0.66, -0.104, 0)\n",
    "pyplot.imshow(combined)"
   ]
  },
  {
   "cell_type": "code",
   "execution_count": null,
   "id": "176555d5",
   "metadata": {},
   "outputs": [],
   "source": [
    "target_image = cv.imread('../top_view_images/cube_01_small.png')\n",
    "check_support(combined, target_image)"
   ]
  },
  {
   "cell_type": "code",
   "execution_count": 37,
   "id": "terminal-exclusion",
   "metadata": {
    "scrolled": true
   },
   "outputs": [
    {
     "name": "stdout",
     "output_type": "stream",
     "text": [
      "(233, 233, 3)\n",
      "[120 255]\n",
      "Object is container\n",
      "(120, 127, 3)\n",
      "[  0 120 255]\n",
      "Object is container\n"
     ]
    },
    {
     "data": {
      "image/png": "[encoded data removed]",
      "text/plain": [
       "<Figure size 432x288 with 1 Axes>"
      ]
     },
     "metadata": {
      "needs_background": "light"
     },
     "output_type": "display_data"
    },
    {
     "data": {
      "image/png": "[encoded data removed]",
      "text/plain": [
       "<Figure size 432x288 with 1 Axes>"
      ]
     },
     "metadata": {
      "needs_background": "light"
     },
     "output_type": "display_data"
    },
    {
     "name": "stdout",
     "output_type": "stream",
     "text": [
      "Unique parent_np: [0 1]\n",
      "Unique child_np: [0 1]\n",
      "V shape:  (114, 107, 120, 127)\n",
      "Parent shape:  (233, 233)\n",
      "Child shape:  (120, 127)\n",
      "child_np_tile shape:  (114, 107, 120, 127)\n"
     ]
    },
    {
     "ename": "ValueError",
     "evalue": "The truth value of an array with more than one element is ambiguous. Use a.any() or a.all()",
     "output_type": "error",
     "traceback": [
      "\u001b[0;31m---------------------------------------------------------------------------\u001b[0m",
      "\u001b[0;31mValueError\u001b[0m                                Traceback (most recent call last)",
      "\u001b[0;32m/tmp/ipykernel_5557/1908220900.py\u001b[0m in \u001b[0;36m<module>\u001b[0;34m\u001b[0m\n\u001b[1;32m      5\u001b[0m \u001b[0;31m# child_np = image2nptemplate_support(rotate_image(child_image, 140))\u001b[0m\u001b[0;34m\u001b[0m\u001b[0;34m\u001b[0m\u001b[0;34m\u001b[0m\u001b[0m\n\u001b[1;32m      6\u001b[0m \u001b[0;34m\u001b[0m\u001b[0m\n\u001b[0;32m----> 7\u001b[0;31m \u001b[0mcheck_support\u001b[0m\u001b[0;34m(\u001b[0m\u001b[0mparent_image\u001b[0m\u001b[0;34m,\u001b[0m \u001b[0mchild_image\u001b[0m\u001b[0;34m)\u001b[0m\u001b[0;34m\u001b[0m\u001b[0;34m\u001b[0m\u001b[0m\n\u001b[0m",
      "\u001b[0;32m/tmp/ipykernel_5557/721268665.py\u001b[0m in \u001b[0;36mcheck_support\u001b[0;34m(parent_image, child_image)\u001b[0m\n\u001b[1;32m     51\u001b[0m \u001b[0;34m\u001b[0m\u001b[0m\n\u001b[1;32m     52\u001b[0m     \u001b[0;31m# Find the intersection at every sliding window\u001b[0m\u001b[0;34m\u001b[0m\u001b[0;34m\u001b[0m\u001b[0;34m\u001b[0m\u001b[0m\n\u001b[0;32m---> 53\u001b[0;31m     \u001b[0mv_out\u001b[0m \u001b[0;34m=\u001b[0m \u001b[0;34m(\u001b[0m\u001b[0;34m(\u001b[0m\u001b[0mv\u001b[0m \u001b[0;34m==\u001b[0m \u001b[0;36m1\u001b[0m\u001b[0;34m)\u001b[0m \u001b[0;32mand\u001b[0m \u001b[0;34m(\u001b[0m\u001b[0mchild_np_tile\u001b[0m \u001b[0;34m==\u001b[0m\u001b[0;36m1\u001b[0m\u001b[0;34m)\u001b[0m\u001b[0;34m)\u001b[0m\u001b[0;34m\u001b[0m\u001b[0;34m\u001b[0m\u001b[0m\n\u001b[0m\u001b[1;32m     54\u001b[0m \u001b[0;34m\u001b[0m\u001b[0m\n\u001b[1;32m     55\u001b[0m     \u001b[0;31m# TODO In each sliding window check to see if the CoM or the center of the template\u001b[0m\u001b[0;34m\u001b[0m\u001b[0;34m\u001b[0m\u001b[0;34m\u001b[0m\u001b[0m\n",
      "\u001b[0;31mValueError\u001b[0m: The truth value of an array with more than one element is ambiguous. Use a.any() or a.all()"
     ]
    }
   ],
   "source": [
    "parent_image = cv.imread('../top_view_images/cube_container_01.png')\n",
    "child_image = cv.imread('../top_view_images/thin_rectangle_01_small_bottom.png')\n",
    "child_image = rotate_image(child_image, 140)\n",
    "# parent_np = image2nptemplate_support(parent_image)\n",
    "# child_np = image2nptemplate_support(rotate_image(child_image, 140))\n",
    "\n",
    "check_support(parent_image, child_image)"
   ]
  },
  {
   "cell_type": "code",
   "execution_count": null,
   "id": "chicken-democrat",
   "metadata": {},
   "outputs": [],
   "source": []
  },
  {
   "cell_type": "code",
   "execution_count": null,
   "id": "403fad43",
   "metadata": {},
   "outputs": [],
   "source": []
  },
  {
   "cell_type": "code",
   "execution_count": null,
   "id": "b81520a6",
   "metadata": {},
   "outputs": [],
   "source": []
  }
 ],
 "metadata": {
  "kernelspec": {
   "display_name": "Python 3 (ipykernel)",
   "language": "python",
   "name": "python3"
  },
  "language_info": {
   "codemirror_mode": {
    "name": "ipython",
    "version": 3
   },
   "file_extension": ".py",
   "mimetype": "text/x-python",
   "name": "python",
   "nbconvert_exporter": "python",
   "pygments_lexer": "ipython3",
   "version": "3.8.10"
  }
 },
 "nbformat": 4,
 "nbformat_minor": 5
}
